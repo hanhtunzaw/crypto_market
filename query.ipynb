{
 "cells": [
  {
   "cell_type": "code",
   "execution_count": 13,
   "id": "433ea8a4",
   "metadata": {},
   "outputs": [
    {
     "name": "stdout",
     "output_type": "stream",
     "text": [
      "             id symbol      name       price   market_cap       volume  \\\n",
      "80  binancecoin    bnb       BNB  672.200000  98065811485    942829688   \n",
      "81       solana    sol    Solana  166.140000  87370792449   5091056795   \n",
      "82     usd-coin   usdc      USDC    0.999768  60940431277  11817537507   \n",
      "83     dogecoin   doge  Dogecoin    0.201115  30121454267   1692627898   \n",
      "84      cardano    ada   Cardano    0.718715  25940364910    805871440   \n",
      "\n",
      "    pct_change_24h                   timestamp  \n",
      "80         1.84405  2025-06-11 11:35:41.060674  \n",
      "81         4.84714  2025-06-11 11:35:41.060674  \n",
      "82        -0.00242  2025-06-11 11:35:41.060674  \n",
      "83         4.98620  2025-06-11 11:35:41.060674  \n",
      "84         3.43722  2025-06-11 11:35:41.060674  \n"
     ]
    }
   ],
   "source": [
    "import sqlite3\n",
    "import pandas as pd\n",
    "\n",
    "conn = sqlite3.connect(\"database/coingecko.db\")\n",
    "df = pd.read_sql(\"SELECT * FROM crypto_prices\", conn)\n",
    "print(df.tail())\n",
    "conn.close()"
   ]
  }
 ],
 "metadata": {
  "kernelspec": {
   "display_name": "base",
   "language": "python",
   "name": "python3"
  },
  "language_info": {
   "codemirror_mode": {
    "name": "ipython",
    "version": 3
   },
   "file_extension": ".py",
   "mimetype": "text/x-python",
   "name": "python",
   "nbconvert_exporter": "python",
   "pygments_lexer": "ipython3",
   "version": "3.12.7"
  }
 },
 "nbformat": 4,
 "nbformat_minor": 5
}
